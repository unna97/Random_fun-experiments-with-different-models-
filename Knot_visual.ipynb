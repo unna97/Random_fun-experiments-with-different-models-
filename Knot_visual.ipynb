{
  "nbformat": 4,
  "nbformat_minor": 0,
  "metadata": {
    "colab": {
      "name": "Knot_visual.ipynb",
      "provenance": [],
      "collapsed_sections": [],
      "authorship_tag": "ABX9TyOa2LMQQBOpnF1ySN3MV6q3",
      "include_colab_link": true
    },
    "kernelspec": {
      "name": "python3",
      "display_name": "Python 3"
    }
  },
  "cells": [
    {
      "cell_type": "markdown",
      "metadata": {
        "id": "view-in-github",
        "colab_type": "text"
      },
      "source": [
        "<a href=\"https://colab.research.google.com/github/unna97/Random_fun-experiments-with-different-models-/blob/master/Knot_visual.ipynb\" target=\"_parent\"><img src=\"https://colab.research.google.com/assets/colab-badge.svg\" alt=\"Open In Colab\"/></a>"
      ]
    },
    {
      "cell_type": "code",
      "metadata": {
        "id": "OCw5blo366hP",
        "colab_type": "code",
        "outputId": "e19b3a0c-eda9-48ed-f619-2256679ea301",
        "colab": {
          "base_uri": "https://localhost:8080/",
          "height": 168
        }
      },
      "source": [
        "!pip install chart_studio"
      ],
      "execution_count": 0,
      "outputs": [
        {
          "output_type": "stream",
          "text": [
            "Requirement already satisfied: chart_studio in /usr/local/lib/python3.6/dist-packages (1.1.0)\n",
            "Requirement already satisfied: requests in /usr/local/lib/python3.6/dist-packages (from chart_studio) (2.21.0)\n",
            "Requirement already satisfied: six in /usr/local/lib/python3.6/dist-packages (from chart_studio) (1.12.0)\n",
            "Requirement already satisfied: plotly in /usr/local/lib/python3.6/dist-packages (from chart_studio) (4.4.1)\n",
            "Requirement already satisfied: retrying>=1.3.3 in /usr/local/lib/python3.6/dist-packages (from chart_studio) (1.3.3)\n",
            "Requirement already satisfied: certifi>=2017.4.17 in /usr/local/lib/python3.6/dist-packages (from requests->chart_studio) (2020.4.5.1)\n",
            "Requirement already satisfied: idna<2.9,>=2.5 in /usr/local/lib/python3.6/dist-packages (from requests->chart_studio) (2.8)\n",
            "Requirement already satisfied: urllib3<1.25,>=1.21.1 in /usr/local/lib/python3.6/dist-packages (from requests->chart_studio) (1.24.3)\n",
            "Requirement already satisfied: chardet<3.1.0,>=3.0.2 in /usr/local/lib/python3.6/dist-packages (from requests->chart_studio) (3.0.4)\n"
          ],
          "name": "stdout"
        }
      ]
    },
    {
      "cell_type": "code",
      "metadata": {
        "id": "9-yqt5TEdo-1",
        "colab_type": "code",
        "colab": {}
      },
      "source": [
        "import chart_studio\n",
        "chart_studio.tools.set_credentials_file(username=get_one, api_key=get_one)\n"
      ],
      "execution_count": 0,
      "outputs": []
    },
    {
      "cell_type": "code",
      "metadata": {
        "id": "HOMFZLCt6VDm",
        "colab_type": "code",
        "colab": {}
      },
      "source": [
        "import numpy as np\n",
        "import chart_studio.plotly as plotly\n",
        "import chart_studio.plotly.plotly as py"
      ],
      "execution_count": 0,
      "outputs": []
    },
    {
      "cell_type": "code",
      "metadata": {
        "id": "XgE2MwY36nK_",
        "colab_type": "code",
        "colab": {}
      },
      "source": [
        "from plotly.graph_objs import Scatter3d,Data,Layout,Scatter\n",
        "from plotly.graph_objs import Figure,Line,Margin,Marker\n",
        "from plotly.graph_objs.scatter3d import Marker as m"
      ],
      "execution_count": 0,
      "outputs": []
    },
    {
      "cell_type": "code",
      "metadata": {
        "id": "YfsdBwYZ8s0P",
        "colab_type": "code",
        "colab": {}
      },
      "source": [
        "phi = np.linspace(0,2*np.pi,250)\n",
        "x = np.sin(phi) + 2*np.sin(2*phi)\n",
        "y = np.cos(phi) - 2*np.cos(2*phi)\n",
        "z = -np.sin(3*phi)"
      ],
      "execution_count": 0,
      "outputs": []
    },
    {
      "cell_type": "code",
      "metadata": {
        "id": "dUn63CawTyHz",
        "colab_type": "code",
        "colab": {}
      },
      "source": [
        "colors = ['rgb(%d, 50, 210)' %c for c in np.abs(z/max(z))*255]"
      ],
      "execution_count": 0,
      "outputs": []
    },
    {
      "cell_type": "code",
      "metadata": {
        "id": "ScoXVaWuSIGt",
        "colab_type": "code",
        "colab": {}
      },
      "source": [
        "traces = list()\n",
        "for i in np.linspace(-np.pi,np.pi,50):\n",
        "  trace = Scatter3d(x = x + np.cos(i)*0.5,y = y + np.sin(i)*0.5,z = z,mode ='markers',marker = m(color = colors,size = 13))\n",
        "  traces.append(trace)"
      ],
      "execution_count": 0,
      "outputs": []
    },
    {
      "cell_type": "code",
      "metadata": {
        "id": "QcHJ0w3HXM_k",
        "colab_type": "code",
        "colab": {}
      },
      "source": [
        "data = tuple(traces)"
      ],
      "execution_count": 0,
      "outputs": []
    },
    {
      "cell_type": "code",
      "metadata": {
        "id": "BA9XB7pPX_Q_",
        "colab_type": "code",
        "colab": {}
      },
      "source": [
        "layout = Layout(showlegend = False,autosize=False,height=500,width=500)\n",
        "fig = Figure(data = data[:20],layout = layout)"
      ],
      "execution_count": 0,
      "outputs": []
    },
    {
      "cell_type": "code",
      "metadata": {
        "id": "48EKMymHYpNq",
        "colab_type": "code",
        "outputId": "8270f96f-ddf9-4b30-9b87-6408a4e0972e",
        "colab": {
          "base_uri": "https://localhost:8080/",
          "height": 34
        }
      },
      "source": [
        "py.plot(fig)"
      ],
      "execution_count": 0,
      "outputs": [
        {
          "output_type": "execute_result",
          "data": {
            "text/plain": [
              "'https://plotly.com/~unna/3/'"
            ]
          },
          "metadata": {
            "tags": []
          },
          "execution_count": 79
        }
      ]
    }
  ]
}